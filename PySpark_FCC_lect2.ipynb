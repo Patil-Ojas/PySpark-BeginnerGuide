{
  "nbformat": 4,
  "nbformat_minor": 0,
  "metadata": {
    "colab": {
      "provenance": []
    },
    "kernelspec": {
      "name": "python3",
      "display_name": "Python 3"
    },
    "language_info": {
      "name": "python"
    }
  },
  "cells": [
    {
      "cell_type": "markdown",
      "source": [
        "# PYSPARK TUTORIAL - FCC"
      ],
      "metadata": {
        "id": "QxCGz-hbXU9j"
      }
    },
    {
      "cell_type": "markdown",
      "source": [
        "## **Lecture Numero Dos**\n",
        "\n",
        "####**What will be covered:**\n",
        "\n",
        "- PySpark Dataframe\n",
        "\n",
        "-  Reading The Dataset\n",
        "\n",
        "- Checking the Datatypes of the Column(Schema)\n",
        "\n",
        "- Selecting Columns And Indexing\n",
        "\n",
        "- Check Describe option similar to Pandas\n",
        "\n",
        "- Adding Columns\n",
        "\n",
        "- Dropping columns\n",
        "\n",
        "- Renaming Columns"
      ],
      "metadata": {
        "id": "OFKlRe13qCqT"
      }
    },
    {
      "cell_type": "code",
      "execution_count": 1,
      "metadata": {
        "colab": {
          "base_uri": "https://localhost:8080/"
        },
        "id": "aSXI6iP5S2Nu",
        "outputId": "50845070-a726-47c0-a82b-3b243a6a776c"
      },
      "outputs": [
        {
          "output_type": "stream",
          "name": "stdout",
          "text": [
            "Collecting pyspark\n",
            "  Downloading pyspark-3.5.0.tar.gz (316.9 MB)\n",
            "\u001b[2K     \u001b[90m━━━━━━━━━━━━━━━━━━━━━━━━━━━━━━━━━━━━━━━━\u001b[0m \u001b[32m316.9/316.9 MB\u001b[0m \u001b[31m4.5 MB/s\u001b[0m eta \u001b[36m0:00:00\u001b[0m\n",
            "\u001b[?25h  Preparing metadata (setup.py) ... \u001b[?25l\u001b[?25hdone\n",
            "Requirement already satisfied: py4j==0.10.9.7 in /usr/local/lib/python3.10/dist-packages (from pyspark) (0.10.9.7)\n",
            "Building wheels for collected packages: pyspark\n",
            "  Building wheel for pyspark (setup.py) ... \u001b[?25l\u001b[?25hdone\n",
            "  Created wheel for pyspark: filename=pyspark-3.5.0-py2.py3-none-any.whl size=317425344 sha256=b9f2b7ffeb938de00ed779e6e1e524bc599de459b29281875ba9b02ded2ee982\n",
            "  Stored in directory: /root/.cache/pip/wheels/41/4e/10/c2cf2467f71c678cfc8a6b9ac9241e5e44a01940da8fbb17fc\n",
            "Successfully built pyspark\n",
            "Installing collected packages: pyspark\n",
            "Successfully installed pyspark-3.5.0\n"
          ]
        }
      ],
      "source": [
        "!pip install pyspark"
      ]
    },
    {
      "cell_type": "code",
      "source": [
        "import pyspark"
      ],
      "metadata": {
        "id": "BbjWkQ-HXUPm"
      },
      "execution_count": 2,
      "outputs": []
    },
    {
      "cell_type": "code",
      "source": [
        "from pyspark.sql import SparkSession\n",
        "\n",
        "spark=SparkSession.builder.appName('PySpark_yt2').getOrCreate()"
      ],
      "metadata": {
        "id": "5alQZ-gCXbjw"
      },
      "execution_count": 5,
      "outputs": []
    },
    {
      "cell_type": "code",
      "source": [
        "spark"
      ],
      "metadata": {
        "colab": {
          "base_uri": "https://localhost:8080/",
          "height": 219
        },
        "id": "-DrUkIEyXdS6",
        "outputId": "53b0c01e-6e61-4972-d5ed-11ca29927988"
      },
      "execution_count": 6,
      "outputs": [
        {
          "output_type": "execute_result",
          "data": {
            "text/plain": [
              "<pyspark.sql.session.SparkSession at 0x78f95e3c7c10>"
            ],
            "text/html": [
              "\n",
              "            <div>\n",
              "                <p><b>SparkSession - in-memory</b></p>\n",
              "                \n",
              "        <div>\n",
              "            <p><b>SparkContext</b></p>\n",
              "\n",
              "            <p><a href=\"http://e1685e378af5:4040\">Spark UI</a></p>\n",
              "\n",
              "            <dl>\n",
              "              <dt>Version</dt>\n",
              "                <dd><code>v3.5.0</code></dd>\n",
              "              <dt>Master</dt>\n",
              "                <dd><code>local[*]</code></dd>\n",
              "              <dt>AppName</dt>\n",
              "                <dd><code>PySpark_yt</code></dd>\n",
              "            </dl>\n",
              "        </div>\n",
              "        \n",
              "            </div>\n",
              "        "
            ]
          },
          "metadata": {},
          "execution_count": 6
        }
      ]
    },
    {
      "cell_type": "code",
      "source": [
        "# all features come as string so we use inferschema\n",
        "df_pyspark2 = spark.read.option('header', 'true').csv('/content/drive/MyDrive/pyspark/nameage.csv', inferSchema=True)\n",
        "df_pyspark2.show()"
      ],
      "metadata": {
        "colab": {
          "base_uri": "https://localhost:8080/"
        },
        "id": "qFc5tMZNXnUW",
        "outputId": "d7806506-97d1-45f0-9bd2-d63266d150b6"
      },
      "execution_count": 14,
      "outputs": [
        {
          "output_type": "stream",
          "name": "stdout",
          "text": [
            "+-------+---+----------+\n",
            "|   Name|Age|experience|\n",
            "+-------+---+----------+\n",
            "|Saitama| 21|        50|\n",
            "|  Bobby| 23|         8|\n",
            "| Ichigo| 30|         3|\n",
            "+-------+---+----------+\n",
            "\n"
          ]
        }
      ]
    },
    {
      "cell_type": "code",
      "source": [
        "df_pyspark2.printSchema()"
      ],
      "metadata": {
        "colab": {
          "base_uri": "https://localhost:8080/"
        },
        "id": "RXNReiDRYU3X",
        "outputId": "18ebfb4e-7f65-440e-b532-4a54ac55acec"
      },
      "execution_count": 15,
      "outputs": [
        {
          "output_type": "stream",
          "name": "stdout",
          "text": [
            "root\n",
            " |-- Name: string (nullable = true)\n",
            " |-- Age: integer (nullable = true)\n",
            " |-- experience: integer (nullable = true)\n",
            "\n"
          ]
        }
      ]
    },
    {
      "cell_type": "code",
      "source": [
        "df_pyspark = spark.read.csv('/content/drive/MyDrive/pyspark/nameage.csv', header=True, inferSchema=True)\n",
        "\n",
        "# the dataframe here is like a data structure\n",
        "print(type(df_pyspark))\n",
        "\n",
        "print(df_pyspark.show())\n",
        "\n",
        "df_pyspark.printSchema()"
      ],
      "metadata": {
        "colab": {
          "base_uri": "https://localhost:8080/"
        },
        "id": "jycDhpJZY8Vo",
        "outputId": "7a786646-3642-495b-fade-de76c9be22bd"
      },
      "execution_count": 23,
      "outputs": [
        {
          "output_type": "stream",
          "name": "stdout",
          "text": [
            "<class 'pyspark.sql.dataframe.DataFrame'>\n",
            "+-------+---+----------+\n",
            "|   Name|Age|experience|\n",
            "+-------+---+----------+\n",
            "|Saitama| 21|        50|\n",
            "|  Bobby| 23|         8|\n",
            "| Ichigo| 30|         3|\n",
            "+-------+---+----------+\n",
            "\n",
            "None\n",
            "root\n",
            " |-- Name: string (nullable = true)\n",
            " |-- Age: integer (nullable = true)\n",
            " |-- experience: integer (nullable = true)\n",
            "\n"
          ]
        }
      ]
    },
    {
      "cell_type": "code",
      "source": [
        "df_pyspark.columns"
      ],
      "metadata": {
        "colab": {
          "base_uri": "https://localhost:8080/"
        },
        "id": "VwKUcSIiZm3_",
        "outputId": "5b1186cd-2f48-4e93-9b10-c2f1dc5de5b5"
      },
      "execution_count": 24,
      "outputs": [
        {
          "output_type": "execute_result",
          "data": {
            "text/plain": [
              "['Name', 'Age', 'experience']"
            ]
          },
          "metadata": {},
          "execution_count": 24
        }
      ]
    },
    {
      "cell_type": "code",
      "source": [
        "# fetching particular column\n",
        "print(df_pyspark.select('Name'))"
      ],
      "metadata": {
        "colab": {
          "base_uri": "https://localhost:8080/"
        },
        "id": "pGvD9qeGZqSJ",
        "outputId": "e0f9045c-1d40-48b2-8e86-f8ac74c295fb"
      },
      "execution_count": 29,
      "outputs": [
        {
          "output_type": "stream",
          "name": "stdout",
          "text": [
            "DataFrame[Name: string]\n"
          ]
        }
      ]
    },
    {
      "cell_type": "code",
      "source": [
        "# slicing wont work\n",
        "df_pyspark.select(['Name', 'Age']).show()"
      ],
      "metadata": {
        "colab": {
          "base_uri": "https://localhost:8080/"
        },
        "id": "JFPTAyaUaP4Z",
        "outputId": "22f45afb-0f22-4954-8d10-1ad78449eb02"
      },
      "execution_count": 30,
      "outputs": [
        {
          "output_type": "stream",
          "name": "stdout",
          "text": [
            "+-------+---+\n",
            "|   Name|Age|\n",
            "+-------+---+\n",
            "|Saitama| 21|\n",
            "|  Bobby| 23|\n",
            "| Ichigo| 30|\n",
            "+-------+---+\n",
            "\n"
          ]
        }
      ]
    },
    {
      "cell_type": "code",
      "source": [
        "df_pyspark.dtypes"
      ],
      "metadata": {
        "colab": {
          "base_uri": "https://localhost:8080/"
        },
        "id": "lN5bavGSaVbG",
        "outputId": "80386da4-ac76-485e-e13a-9eeb16d9ba4e"
      },
      "execution_count": 32,
      "outputs": [
        {
          "output_type": "execute_result",
          "data": {
            "text/plain": [
              "[('Name', 'string'), ('Age', 'int'), ('experience', 'int')]"
            ]
          },
          "metadata": {},
          "execution_count": 32
        }
      ]
    },
    {
      "cell_type": "code",
      "source": [
        "df_pyspark.describe().show()"
      ],
      "metadata": {
        "colab": {
          "base_uri": "https://localhost:8080/"
        },
        "id": "PAuY73ylb8Vk",
        "outputId": "3fa12ffb-fc8f-441e-85c8-c6b0fb252249"
      },
      "execution_count": 33,
      "outputs": [
        {
          "output_type": "stream",
          "name": "stdout",
          "text": [
            "+-------+-------+------------------+------------------+\n",
            "|summary|   Name|               Age|        experience|\n",
            "+-------+-------+------------------+------------------+\n",
            "|  count|      3|                 3|                 3|\n",
            "|   mean|   NULL|24.666666666666668|20.333333333333332|\n",
            "| stddev|   NULL| 4.725815626252609|25.813433195399124|\n",
            "|    min|  Bobby|                21|                 3|\n",
            "|    max|Saitama|                30|                50|\n",
            "+-------+-------+------------------+------------------+\n",
            "\n"
          ]
        }
      ]
    },
    {
      "cell_type": "code",
      "source": [
        "df_pyspark=df_pyspark.withColumn('Experience After 2 year',df_pyspark['Experience']+2)\n",
        "df_pyspark.show()"
      ],
      "metadata": {
        "colab": {
          "base_uri": "https://localhost:8080/"
        },
        "id": "4Et0FgYwcFvN",
        "outputId": "cde419b5-f10c-4f92-fa37-e21141f4de6b"
      },
      "execution_count": 36,
      "outputs": [
        {
          "output_type": "stream",
          "name": "stdout",
          "text": [
            "+-------+---+----------+-----------------------+\n",
            "|   Name|Age|experience|Experience After 2 year|\n",
            "+-------+---+----------+-----------------------+\n",
            "|Saitama| 21|        50|                     52|\n",
            "|  Bobby| 23|         8|                     10|\n",
            "| Ichigo| 30|         3|                      5|\n",
            "+-------+---+----------+-----------------------+\n",
            "\n"
          ]
        }
      ]
    },
    {
      "cell_type": "code",
      "source": [
        "df_pyspark=df_pyspark.drop('Experience After 2 year')\n",
        "df_pyspark.show()"
      ],
      "metadata": {
        "colab": {
          "base_uri": "https://localhost:8080/"
        },
        "id": "KfLgXiBqpyva",
        "outputId": "04e5651f-ac89-4d0d-9688-345b21dcbddb"
      },
      "execution_count": 39,
      "outputs": [
        {
          "output_type": "stream",
          "name": "stdout",
          "text": [
            "+-------+---+----------+\n",
            "|   Name|Age|experience|\n",
            "+-------+---+----------+\n",
            "|Saitama| 21|        50|\n",
            "|  Bobby| 23|         8|\n",
            "| Ichigo| 30|         3|\n",
            "+-------+---+----------+\n",
            "\n"
          ]
        }
      ]
    },
    {
      "cell_type": "code",
      "source": [
        "df_pyspark = df_pyspark.withColumnRenamed('Name','New Name')\n",
        "df_pyspark.show()"
      ],
      "metadata": {
        "colab": {
          "base_uri": "https://localhost:8080/"
        },
        "id": "mg7MXG1ZpzxZ",
        "outputId": "a1e35edb-c7f0-4a74-bc5f-865dddd48356"
      },
      "execution_count": 41,
      "outputs": [
        {
          "output_type": "stream",
          "name": "stdout",
          "text": [
            "+--------+---+----------+\n",
            "|New Name|Age|experience|\n",
            "+--------+---+----------+\n",
            "| Saitama| 21|        50|\n",
            "|   Bobby| 23|         8|\n",
            "|  Ichigo| 30|         3|\n",
            "+--------+---+----------+\n",
            "\n"
          ]
        }
      ]
    }
  ]
}